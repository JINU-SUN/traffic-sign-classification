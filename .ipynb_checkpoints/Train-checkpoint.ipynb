{
 "cells": [
  {
   "cell_type": "markdown",
   "metadata": {},
   "source": [
    "## Import"
   ]
  },
  {
   "cell_type": "code",
   "execution_count": 2,
   "metadata": {},
   "outputs": [],
   "source": [
    "%matplotlib inline\n",
    "import os \n",
    "from glob import glob\n",
    "\n",
    "from PIL import Image\n",
    "import numpy as np\n",
    "import pandas as pd\n",
    "import tensorflow as tf\n",
    "from tensorflow.keras import datasets, layers, models\n",
    "from tensorflow.keras.layers import Conv2D, MaxPool2D, Dropout, Flatten, Dense\n",
    "from tensorflow.keras.models import Model\n",
    "\n",
    "import sys\n",
    "import pickle\n",
    "import gzip"
   ]
  },
  {
   "cell_type": "code",
   "execution_count": 3,
   "metadata": {},
   "outputs": [],
   "source": [
    "def init_gpu():\n",
    "    gpus = tf.config.experimental.list_physical_devices('GPU')\n",
    "    if gpus:\n",
    "        try:\n",
    "            tf.config.experimental.set_visible_devices(gpus[0], 'GPU')\n",
    "        except RuntimeError as e:\n",
    "            print(e)"
   ]
  },
  {
   "cell_type": "markdown",
   "metadata": {},
   "source": [
    "## Set hyper parameter"
   ]
  },
  {
   "cell_type": "code",
   "execution_count": 4,
   "metadata": {},
   "outputs": [],
   "source": [
    "# Hyper Parameter \n",
    "batch_size = 64\n",
    "data_height = 32 \n",
    "data_width = 32\n",
    "channel_n = 3\n",
    "num_classes = 43"
   ]
  },
  {
   "cell_type": "code",
   "execution_count": 5,
   "metadata": {},
   "outputs": [],
   "source": [
    "def data():\n",
    "    with gzip.open('pickle/train_images.pickle', 'rb') as f:\n",
    "        train_images = pickle.load(f)\n",
    "\n",
    "    with gzip.open('pickle/train_labels.pickle', 'rb') as f:\n",
    "        train_labels = pickle.load(f)\n",
    "\n",
    "    with gzip.open('pickle/test_images.pickle', 'rb') as f:\n",
    "        test_images = pickle.load(f)\n",
    "\n",
    "    with gzip.open('pickle/test_labels.pickle', 'rb') as f:\n",
    "        test_labels = pickle.load(f)\n",
    "\n",
    "\n",
    "    return train_images, train_labels, test_images, test_labels"
   ]
  },
  {
   "cell_type": "code",
   "execution_count": 10,
   "metadata": {},
   "outputs": [],
   "source": [
    "def create_model(train_images, train_labels, test_images, test_labels):\n",
    "    model = models.Sequential()\n",
    "    \n",
    "    model.add(Conv2D(filters=32, kernel_size=3, activation='relu', input_shape=(data_height, data_width, 3)))\n",
    "    #model.add(Conv2D(filters=32, kernel_size=3, activation='relu'))\n",
    "    model.add(MaxPool2D(pool_size=(2, 2)))\n",
    "    model.add(Dropout(rate=0.25))\n",
    "    \n",
    "    \n",
    "    model.add(Conv2D(filters=64, kernel_size=3, activation='relu'))\n",
    "    #model.add(Conv2D(filters=64, kernel_size=3, activation='relu'))\n",
    "    model.add(MaxPool2D(pool_size=(2, 2)))\n",
    "    model.add(Dropout(rate=0.25))\n",
    "    \n",
    "    model.add(Flatten())\n",
    "    model.add(Dense(256, activation='relu'))\n",
    "    model.add(Dropout(rate=0.5))\n",
    "    model.add(Dense(43, activation='softmax'))\n",
    "    \n",
    "    model.compile(loss=\"sparse_categorical_crossentropy\", optimizer='adam',\n",
    "        metrics=[\"accuracy\"])\n",
    "    \n",
    "    return model"
   ]
  },
  {
   "cell_type": "code",
   "execution_count": 11,
   "metadata": {},
   "outputs": [
    {
     "name": "stdout",
     "output_type": "stream",
     "text": [
      "Model: \"sequential_1\"\n",
      "_________________________________________________________________\n",
      "Layer (type)                 Output Shape              Param #   \n",
      "=================================================================\n",
      "conv2d_2 (Conv2D)            (None, 30, 30, 32)        896       \n",
      "_________________________________________________________________\n",
      "conv2d_3 (Conv2D)            (None, 28, 28, 32)        9248      \n",
      "_________________________________________________________________\n",
      "max_pooling2d_2 (MaxPooling2 (None, 14, 14, 32)        0         \n",
      "_________________________________________________________________\n",
      "dropout_3 (Dropout)          (None, 14, 14, 32)        0         \n",
      "_________________________________________________________________\n",
      "conv2d_4 (Conv2D)            (None, 12, 12, 64)        18496     \n",
      "_________________________________________________________________\n",
      "max_pooling2d_3 (MaxPooling2 (None, 6, 6, 64)          0         \n",
      "_________________________________________________________________\n",
      "dropout_4 (Dropout)          (None, 6, 6, 64)          0         \n",
      "_________________________________________________________________\n",
      "flatten_1 (Flatten)          (None, 2304)              0         \n",
      "_________________________________________________________________\n",
      "dense_2 (Dense)              (None, 256)               590080    \n",
      "_________________________________________________________________\n",
      "dropout_5 (Dropout)          (None, 256)               0         \n",
      "_________________________________________________________________\n",
      "dense_3 (Dense)              (None, 43)                11051     \n",
      "=================================================================\n",
      "Total params: 629,771\n",
      "Trainable params: 629,771\n",
      "Non-trainable params: 0\n",
      "_________________________________________________________________\n"
     ]
    }
   ],
   "source": [
    "init_gpu()\n",
    "\n",
    "X_train, Y_train, X_test, Y_test = data()\n",
    "\n",
    "model = create_model(X_train, Y_train, X_test, Y_test)\n",
    "\n",
    "model.summary()"
   ]
  },
  {
   "cell_type": "code",
   "execution_count": 8,
   "metadata": {},
   "outputs": [
    {
     "name": "stdout",
     "output_type": "stream",
     "text": [
      "Train on 39209 samples, validate on 12630 samples\n",
      "Epoch 1/20\n",
      "39209/39209 [==============================] - 7s 173us/sample - loss: 1.2931 - acc: 0.6333 - val_loss: 0.3848 - val_acc: 0.9079\n",
      "Epoch 2/20\n",
      "39209/39209 [==============================] - 5s 118us/sample - loss: 0.3127 - acc: 0.9079 - val_loss: 0.2303 - val_acc: 0.9416\n",
      "Epoch 3/20\n",
      "39209/39209 [==============================] - 6s 141us/sample - loss: 0.2001 - acc: 0.9417 - val_loss: 0.1977 - val_acc: 0.9533\n",
      "Epoch 4/20\n",
      "39209/39209 [==============================] - 6s 153us/sample - loss: 0.1481 - acc: 0.9559 - val_loss: 0.1691 - val_acc: 0.9601\n",
      "Epoch 5/20\n",
      "39209/39209 [==============================] - 6s 153us/sample - loss: 0.1193 - acc: 0.9650 - val_loss: 0.1499 - val_acc: 0.9622\n",
      "Epoch 6/20\n",
      "39209/39209 [==============================] - 6s 153us/sample - loss: 0.0985 - acc: 0.9703 - val_loss: 0.1443 - val_acc: 0.9622\n",
      "Epoch 7/20\n",
      "39209/39209 [==============================] - 6s 153us/sample - loss: 0.0848 - acc: 0.9742 - val_loss: 0.1601 - val_acc: 0.9619\n",
      "Epoch 8/20\n",
      "39209/39209 [==============================] - 6s 153us/sample - loss: 0.0794 - acc: 0.9751 - val_loss: 0.1492 - val_acc: 0.9641\n",
      "Epoch 9/20\n",
      "39209/39209 [==============================] - 6s 153us/sample - loss: 0.0686 - acc: 0.9790 - val_loss: 0.1168 - val_acc: 0.9691\n",
      "Epoch 10/20\n",
      "39209/39209 [==============================] - 6s 152us/sample - loss: 0.0648 - acc: 0.9804 - val_loss: 0.1445 - val_acc: 0.9644\n",
      "Epoch 11/20\n",
      "39209/39209 [==============================] - 6s 153us/sample - loss: 0.0550 - acc: 0.9827 - val_loss: 0.1425 - val_acc: 0.9645\n",
      "Epoch 12/20\n",
      "39209/39209 [==============================] - 6s 145us/sample - loss: 0.0537 - acc: 0.9832 - val_loss: 0.1467 - val_acc: 0.9644\n",
      "Epoch 13/20\n",
      "39209/39209 [==============================] - 4s 96us/sample - loss: 0.0482 - acc: 0.9844 - val_loss: 0.1342 - val_acc: 0.9676\n",
      "Epoch 14/20\n",
      "39209/39209 [==============================] - 2s 42us/sample - loss: 0.0492 - acc: 0.9844 - val_loss: 0.1359 - val_acc: 0.9678\n",
      "Epoch 15/20\n",
      "39209/39209 [==============================] - 2s 40us/sample - loss: 0.0445 - acc: 0.9860 - val_loss: 0.1365 - val_acc: 0.9689\n",
      "Epoch 16/20\n",
      "39209/39209 [==============================] - 2s 39us/sample - loss: 0.0438 - acc: 0.9859 - val_loss: 0.1137 - val_acc: 0.9724\n",
      "Epoch 17/20\n",
      "39209/39209 [==============================] - 2s 41us/sample - loss: 0.0423 - acc: 0.9873 - val_loss: 0.2012 - val_acc: 0.9636\n",
      "Epoch 18/20\n",
      "39209/39209 [==============================] - 5s 122us/sample - loss: 0.0378 - acc: 0.9878 - val_loss: 0.1342 - val_acc: 0.9724\n",
      "Epoch 19/20\n",
      "39209/39209 [==============================] - 5s 136us/sample - loss: 0.0382 - acc: 0.9885 - val_loss: 0.1482 - val_acc: 0.9681\n",
      "Epoch 20/20\n",
      "39209/39209 [==============================] - 6s 150us/sample - loss: 0.0368 - acc: 0.9889 - val_loss: 0.1415 - val_acc: 0.9721\n"
     ]
    }
   ],
   "source": [
    "history = model.fit(X_train, Y_train, epochs=20, batch_size=64, validation_data=(X_test, Y_test))\n"
   ]
  },
  {
   "cell_type": "code",
   "execution_count": 9,
   "metadata": {},
   "outputs": [
    {
     "data": {
      "text/plain": [
       "<matplotlib.legend.Legend at 0x7f15dc171990>"
      ]
     },
     "execution_count": 9,
     "metadata": {},
     "output_type": "execute_result"
    },
    {
     "data": {
      "image/png": "[encoded data removed]",
      "text/plain": [
       "<Figure size 432x288 with 1 Axes>"
      ]
     },
     "metadata": {
      "needs_background": "light"
     },
     "output_type": "display_data"
    },
    {
     "data": {
      "image/png": "[encoded data removed]",
      "text/plain": [
       "<Figure size 432x288 with 1 Axes>"
      ]
     },
     "metadata": {
      "needs_background": "light"
     },
     "output_type": "display_data"
    }
   ],
   "source": [
    "#Display of the accuracy and the loss values\n",
    "import matplotlib.pyplot as plt\n",
    "\n",
    "plt.figure(0)\n",
    "plt.plot(history.history['acc'], label='training accuracy')\n",
    "plt.plot(history.history['val_acc'], label='val accuracy')\n",
    "plt.title('Accuracy')\n",
    "plt.xlabel('epochs')\n",
    "plt.ylabel('accuracy')\n",
    "plt.legend()\n",
    "\n",
    "plt.figure(1)\n",
    "plt.plot(history.history['loss'], label='training loss')\n",
    "plt.plot(history.history['val_loss'], label='val loss')\n",
    "plt.title('Loss')\n",
    "plt.xlabel('epochs')\n",
    "plt.ylabel('loss')\n",
    "plt.legend()"
   ]
  },
  {
   "cell_type": "code",
   "execution_count": null,
   "metadata": {},
   "outputs": [],
   "source": []
  }
 ],
 "metadata": {
  "kernelspec": {
   "display_name": "Python 3",
   "language": "python",
   "name": "python3"
  },
  "language_info": {
   "codemirror_mode": {
    "name": "ipython",
    "version": 3
   },
   "file_extension": ".py",
   "mimetype": "text/x-python",
   "name": "python",
   "nbconvert_exporter": "python",
   "pygments_lexer": "ipython3",
   "version": "3.7.5"
  }
 },
 "nbformat": 4,
 "nbformat_minor": 2
}
