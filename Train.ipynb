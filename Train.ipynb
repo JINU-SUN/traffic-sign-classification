{
 "cells": [
  {
   "cell_type": "markdown",
   "metadata": {},
   "source": [
    "## Import"
   ]
  },
  {
   "cell_type": "code",
   "execution_count": 2,
   "metadata": {},
   "outputs": [],
   "source": [
    "%matplotlib inline\n",
    "import os \n",
    "from glob import glob\n",
    "\n",
    "from PIL import Image\n",
    "import numpy as np\n",
    "import pandas as pd\n",
    "import tensorflow as tf\n",
    "from tensorflow.keras import datasets, layers, models\n",
    "from tensorflow.keras.layers import Conv2D, MaxPool2D, Dropout, Flatten, Dense\n",
    "from tensorflow.keras.models import Model\n",
    "\n",
    "import sys\n",
    "import pickle\n",
    "import gzip"
   ]
  },
  {
   "cell_type": "code",
   "execution_count": 3,
   "metadata": {},
   "outputs": [],
   "source": [
    "def init_gpu():\n",
    "    gpus = tf.config.experimental.list_physical_devices('GPU')\n",
    "    if gpus:\n",
    "        try:\n",
    "            tf.config.experimental.set_visible_devices(gpus[0], 'GPU')\n",
    "        except RuntimeError as e:\n",
    "            print(e)"
   ]
  },
  {
   "cell_type": "markdown",
   "metadata": {},
   "source": [
    "## Set hyper parameter"
   ]
  },
  {
   "cell_type": "code",
   "execution_count": 4,
   "metadata": {},
   "outputs": [],
   "source": [
    "# Hyper Parameter \n",
    "batch_size = 64\n",
    "data_height = 32 \n",
    "data_width = 32\n",
    "channel_n = 3\n",
    "num_classes = 43"
   ]
  },
  {
   "cell_type": "code",
   "execution_count": 5,
   "metadata": {},
   "outputs": [],
   "source": [
    "def data():\n",
    "    with gzip.open('pickle/train_images.pickle', 'rb') as f:\n",
    "        train_images = pickle.load(f)\n",
    "\n",
    "    with gzip.open('pickle/train_labels.pickle', 'rb') as f:\n",
    "        train_labels = pickle.load(f)\n",
    "\n",
    "    with gzip.open('pickle/test_images.pickle', 'rb') as f:\n",
    "        test_images = pickle.load(f)\n",
    "\n",
    "    with gzip.open('pickle/test_labels.pickle', 'rb') as f:\n",
    "        test_labels = pickle.load(f)\n",
    "\n",
    "\n",
    "    return train_images, train_labels, test_images, test_labels"
   ]
  },
  {
   "cell_type": "code",
   "execution_count": 17,
   "metadata": {},
   "outputs": [],
   "source": [
    "def create_model(train_images, train_labels, test_images, test_labels):\n",
    "    model = models.Sequential()\n",
    "    \n",
    "    model.add(Conv2D(filters=32, kernel_size=3, activation='relu', input_shape=(data_height, data_width, 3)))\n",
    "    model.add(Conv2D(filters=32, kernel_size=3, activation='relu'))\n",
    "    model.add(MaxPool2D(pool_size=(2, 2)))\n",
    "    model.add(Dropout(rate=0.25))\n",
    "    \n",
    "    \n",
    "    model.add(Conv2D(filters=64, kernel_size=3, activation='relu'))\n",
    "    #model.add(Conv2D(filters=64, kernel_size=3, activation='relu'))\n",
    "    model.add(MaxPool2D(pool_size=(2, 2)))\n",
    "    model.add(Dropout(rate=0.25))\n",
    "    \n",
    "    model.add(Flatten())\n",
    "    model.add(Dense(256, activation='relu'))\n",
    "    model.add(Dropout(rate=0.5))\n",
    "    model.add(Dense(43, activation='softmax'))\n",
    "    \n",
    "    model.compile(loss=\"sparse_categorical_crossentropy\", optimizer='adam',\n",
    "        metrics=[\"accuracy\"])\n",
    "    \n",
    "    return model"
   ]
  },
  {
   "cell_type": "code",
   "execution_count": 18,
   "metadata": {},
   "outputs": [
    {
     "name": "stdout",
     "output_type": "stream",
     "text": [
      "Model: \"sequential_3\"\n",
      "_________________________________________________________________\n",
      "Layer (type)                 Output Shape              Param #   \n",
      "=================================================================\n",
      "conv2d_8 (Conv2D)            (None, 30, 30, 32)        896       \n",
      "_________________________________________________________________\n",
      "conv2d_9 (Conv2D)            (None, 28, 28, 32)        9248      \n",
      "_________________________________________________________________\n",
      "max_pooling2d_6 (MaxPooling2 (None, 14, 14, 32)        0         \n",
      "_________________________________________________________________\n",
      "dropout_3 (Dropout)          (None, 14, 14, 32)        0         \n",
      "_________________________________________________________________\n",
      "conv2d_10 (Conv2D)           (None, 12, 12, 64)        18496     \n",
      "_________________________________________________________________\n",
      "max_pooling2d_7 (MaxPooling2 (None, 6, 6, 64)          0         \n",
      "_________________________________________________________________\n",
      "dropout_4 (Dropout)          (None, 6, 6, 64)          0         \n",
      "_________________________________________________________________\n",
      "flatten_3 (Flatten)          (None, 2304)              0         \n",
      "_________________________________________________________________\n",
      "dense_6 (Dense)              (None, 256)               590080    \n",
      "_________________________________________________________________\n",
      "dropout_5 (Dropout)          (None, 256)               0         \n",
      "_________________________________________________________________\n",
      "dense_7 (Dense)              (None, 43)                11051     \n",
      "=================================================================\n",
      "Total params: 629,771\n",
      "Trainable params: 629,771\n",
      "Non-trainable params: 0\n",
      "_________________________________________________________________\n"
     ]
    }
   ],
   "source": [
    "init_gpu()\n",
    "\n",
    "X_train, Y_train, X_test, Y_test = data()\n",
    "\n",
    "model = create_model(X_train, Y_train, X_test, Y_test)\n",
    "\n",
    "model.summary()"
   ]
  },
  {
   "cell_type": "code",
   "execution_count": 19,
   "metadata": {},
   "outputs": [
    {
     "name": "stdout",
     "output_type": "stream",
     "text": [
      "Train on 39209 samples, validate on 12630 samples\n",
      "Epoch 1/20\n",
      "39209/39209 [==============================] - 6s 155us/sample - loss: 1.0888 - acc: 0.6958 - val_loss: 0.2582 - val_acc: 0.9366\n",
      "Epoch 2/20\n",
      "39209/39209 [==============================] - 7s 175us/sample - loss: 0.2135 - acc: 0.9375 - val_loss: 0.1842 - val_acc: 0.9559\n",
      "Epoch 3/20\n",
      "39209/39209 [==============================] - 7s 175us/sample - loss: 0.1298 - acc: 0.9620 - val_loss: 0.1212 - val_acc: 0.9686\n",
      "Epoch 4/20\n",
      "39209/39209 [==============================] - 7s 175us/sample - loss: 0.0962 - acc: 0.9713 - val_loss: 0.1263 - val_acc: 0.9688\n",
      "Epoch 5/20\n",
      "39209/39209 [==============================] - 6s 159us/sample - loss: 0.0846 - acc: 0.9739 - val_loss: 0.1011 - val_acc: 0.9747\n",
      "Epoch 6/20\n",
      "39209/39209 [==============================] - 7s 166us/sample - loss: 0.0624 - acc: 0.9812 - val_loss: 0.1121 - val_acc: 0.9716\n",
      "Epoch 7/20\n",
      "39209/39209 [==============================] - 7s 175us/sample - loss: 0.0595 - acc: 0.9819 - val_loss: 0.0825 - val_acc: 0.9766\n",
      "Epoch 8/20\n",
      "39209/39209 [==============================] - 7s 174us/sample - loss: 0.0497 - acc: 0.9840 - val_loss: 0.1224 - val_acc: 0.9667\n",
      "Epoch 9/20\n",
      "39209/39209 [==============================] - 7s 174us/sample - loss: 0.0429 - acc: 0.9860 - val_loss: 0.1138 - val_acc: 0.9751\n",
      "Epoch 10/20\n",
      "39209/39209 [==============================] - 7s 174us/sample - loss: 0.0424 - acc: 0.9867 - val_loss: 0.0934 - val_acc: 0.9778\n",
      "Epoch 11/20\n",
      "39209/39209 [==============================] - 7s 175us/sample - loss: 0.0384 - acc: 0.9878 - val_loss: 0.0999 - val_acc: 0.9774\n",
      "Epoch 12/20\n",
      "39209/39209 [==============================] - 7s 175us/sample - loss: 0.0373 - acc: 0.9889 - val_loss: 0.0839 - val_acc: 0.9782\n",
      "Epoch 13/20\n",
      "39209/39209 [==============================] - 7s 175us/sample - loss: 0.0360 - acc: 0.9888 - val_loss: 0.0826 - val_acc: 0.9776\n",
      "Epoch 14/20\n",
      "39209/39209 [==============================] - 7s 174us/sample - loss: 0.0336 - acc: 0.9893 - val_loss: 0.0909 - val_acc: 0.9771\n",
      "Epoch 15/20\n",
      "39209/39209 [==============================] - 7s 174us/sample - loss: 0.0303 - acc: 0.9903 - val_loss: 0.1076 - val_acc: 0.9770\n",
      "Epoch 16/20\n",
      "39209/39209 [==============================] - 7s 174us/sample - loss: 0.0294 - acc: 0.9905 - val_loss: 0.1142 - val_acc: 0.9768\n",
      "Epoch 17/20\n",
      "39209/39209 [==============================] - 7s 175us/sample - loss: 0.0268 - acc: 0.9913 - val_loss: 0.1108 - val_acc: 0.9777\n",
      "Epoch 18/20\n",
      "39209/39209 [==============================] - 7s 175us/sample - loss: 0.0276 - acc: 0.9915 - val_loss: 0.0939 - val_acc: 0.9778\n",
      "Epoch 19/20\n",
      "39209/39209 [==============================] - 7s 172us/sample - loss: 0.0243 - acc: 0.9920 - val_loss: 0.0905 - val_acc: 0.9805\n",
      "Epoch 20/20\n",
      "39209/39209 [==============================] - 6s 165us/sample - loss: 0.0233 - acc: 0.9926 - val_loss: 0.0834 - val_acc: 0.9812\n"
     ]
    }
   ],
   "source": [
    "history = model.fit(X_train, Y_train, epochs=20, batch_size=64, validation_data=(X_test, Y_test))\n"
   ]
  },
  {
   "cell_type": "code",
   "execution_count": 21,
   "metadata": {},
   "outputs": [],
   "source": [
    "model_json = model.to_json()\n",
    "\n",
    "with open(\"model/model.json\", \"w\") as json_file : \n",
    "    json_file.write(model_json)\n",
    "\n",
    "model.save_weights(\"model/model.h5\")"
   ]
  },
  {
   "cell_type": "code",
   "execution_count": 22,
   "metadata": {},
   "outputs": [
    {
     "name": "stdout",
     "output_type": "stream",
     "text": [
      "12630/12630 - 2s - loss: 0.0834 - acc: 0.9812\n"
     ]
    },
    {
     "data": {
      "text/plain": [
       "[0.08336109051445219, 0.98123515]"
      ]
     },
     "execution_count": 22,
     "metadata": {},
     "output_type": "execute_result"
    }
   ],
   "source": [
    "model.evaluate(X_test, Y_test, verbose=2)"
   ]
  },
  {
   "cell_type": "code",
   "execution_count": 23,
   "metadata": {},
   "outputs": [
    {
     "data": {
      "text/plain": [
       "<matplotlib.legend.Legend at 0x7f8f462402d0>"
      ]
     },
     "execution_count": 23,
     "metadata": {},
     "output_type": "execute_result"
    },
    {
     "data": {
      "image/png": "[encoded data removed]",
      "text/plain": [
       "<Figure size 432x288 with 1 Axes>"
      ]
     },
     "metadata": {
      "needs_background": "light"
     },
     "output_type": "display_data"
    },
    {
     "data": {
      "image/png": "[encoded data removed]",
      "text/plain": [
       "<Figure size 432x288 with 1 Axes>"
      ]
     },
     "metadata": {
      "needs_background": "light"
     },
     "output_type": "display_data"
    }
   ],
   "source": [
    "#Display of the accuracy and the loss values\n",
    "import matplotlib.pyplot as plt\n",
    "\n",
    "plt.figure(0)\n",
    "plt.plot(history.history['acc'], label='training accuracy')\n",
    "plt.plot(history.history['val_acc'], label='val accuracy')\n",
    "plt.title('Accuracy')\n",
    "plt.xlabel('epochs')\n",
    "plt.ylabel('accuracy')\n",
    "plt.legend()\n",
    "\n",
    "plt.figure(1)\n",
    "plt.plot(history.history['loss'], label='training loss')\n",
    "plt.plot(history.history['val_loss'], label='val loss')\n",
    "plt.title('Loss')\n",
    "plt.xlabel('epochs')\n",
    "plt.ylabel('loss')\n",
    "plt.legend()"
   ]
  },
  {
   "cell_type": "code",
   "execution_count": null,
   "metadata": {},
   "outputs": [],
   "source": []
  }
 ],
 "metadata": {
  "kernelspec": {
   "display_name": "Python 3",
   "language": "python",
   "name": "python3"
  },
  "language_info": {
   "codemirror_mode": {
    "name": "ipython",
    "version": 3
   },
   "file_extension": ".py",
   "mimetype": "text/x-python",
   "name": "python",
   "nbconvert_exporter": "python",
   "pygments_lexer": "ipython3",
   "version": "3.7.5"
  }
 },
 "nbformat": 4,
 "nbformat_minor": 2
}
